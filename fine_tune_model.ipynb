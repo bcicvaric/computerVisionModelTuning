{
 "cells": [
  {
   "cell_type": "code",
   "execution_count": 4,
   "id": "c82ea91e",
   "metadata": {},
   "outputs": [],
   "source": [
    "from ultralytics import YOLO\n",
    "from roboflow import Roboflow\n",
    "import json\n",
    "import shutil\n",
    "\n",
    "CREDENTIALS_SOURCE = 'roboflow_creds.json' # PLEASE ADD YOUR OWN API KEY TO THIS FILE\n",
    "f = open(CREDENTIALS_SOURCE)\n",
    "creds = json.load(f)"
   ]
  },
  {
   "cell_type": "code",
   "execution_count": 1,
   "id": "5e39e058",
   "metadata": {},
   "outputs": [],
   "source": [
    "rf = Roboflow(api_key=creds['ROBOFLOW_KEY']) \n",
    "project = rf.workspace(\"roboflow-jvuqo\").project(\"football-players-detection-3zvbc\")\n",
    "version = project.version(1)\n",
    "dataset = version.download(\"yolov8\")"
   ]
  },
  {
   "cell_type": "code",
   "execution_count": null,
   "id": "2013bc44",
   "metadata": {},
   "outputs": [],
   "source": [
    "#MOVE data.yaml 1 folder up\n",
    "shutil.move('football-players-detection-1/data.yaml',\n",
    "            'data.yaml'\n",
    "            )\n",
    "\n",
    "# In data.yaml edit row\n",
    "# test: ../test/images\n",
    "# -------------------->\n",
    "# test: football-players-detection-1/test/images"
   ]
  },
  {
   "cell_type": "code",
   "execution_count": 2,
   "id": "e20378b2",
   "metadata": {},
   "outputs": [],
   "source": [
    "#TRAIN WITH CUSTOM DATASET\n",
    "model = YOLO(\"yolov8s.pt\")\n",
    "\n",
    "results = model.train(data=\"data.yaml\", epochs=100, imgsz=640, batch=4, close_mosaic=20)"
   ]
  }
 ],
 "metadata": {
  "kernelspec": {
   "display_name": "Python 3",
   "language": "python",
   "name": "python3"
  },
  "language_info": {
   "codemirror_mode": {
    "name": "ipython",
    "version": 3
   },
   "file_extension": ".py",
   "mimetype": "text/x-python",
   "name": "python",
   "nbconvert_exporter": "python",
   "pygments_lexer": "ipython3",
   "version": "3.9.2"
  }
 },
 "nbformat": 4,
 "nbformat_minor": 5
}
